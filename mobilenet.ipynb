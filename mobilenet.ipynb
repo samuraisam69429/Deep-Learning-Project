{
  "nbformat": 4,
  "nbformat_minor": 0,
  "metadata": {
    "colab": {
      "provenance": [],
      "gpuType": "T4"
    },
    "kernelspec": {
      "name": "python3",
      "display_name": "Python 3"
    },
    "language_info": {
      "name": "python"
    },
    "accelerator": "GPU"
  },
  "cells": [
    {
      "cell_type": "code",
      "execution_count": 1,
      "metadata": {
        "id": "IggHGBHIh5EW"
      },
      "outputs": [],
      "source": [
        "from keras.applications.mobilenet_v2 import MobileNetV2"
      ]
    },
    {
      "cell_type": "code",
      "source": [
        "model = MobileNetV2(weights='imagenet' )"
      ],
      "metadata": {
        "colab": {
          "base_uri": "https://localhost:8080/"
        },
        "id": "Qm_rqOdfik2l",
        "outputId": "00e2c0b2-ec40-47ff-84e0-b1e1aa87af79"
      },
      "execution_count": 2,
      "outputs": [
        {
          "output_type": "stream",
          "name": "stdout",
          "text": [
            "Downloading data from https://storage.googleapis.com/tensorflow/keras-applications/mobilenet_v2/mobilenet_v2_weights_tf_dim_ordering_tf_kernels_1.0_224.h5\n",
            "14536120/14536120 [==============================] - 2s 0us/step\n"
          ]
        }
      ]
    },
    {
      "cell_type": "code",
      "source": [
        "import numpy as np\n",
        "from imageio import imread"
      ],
      "metadata": {
        "id": "gLeH5zg7ks0g"
      },
      "execution_count": 3,
      "outputs": []
    },
    {
      "cell_type": "code",
      "source": [
        "data = np.empty((1, 224, 224, 3))\n",
        "data[0] = imread('/content/boef.jpg')"
      ],
      "metadata": {
        "id": "pmyO9A2xkv9-",
        "outputId": "6c62a883-f897-4371-88a8-651b9aff5db5",
        "colab": {
          "base_uri": "https://localhost:8080/"
        }
      },
      "execution_count": 4,
      "outputs": [
        {
          "output_type": "stream",
          "name": "stderr",
          "text": [
            "<ipython-input-4-c16992754ef0>:2: DeprecationWarning: Starting with ImageIO v3 the behavior of this function will switch to that of iio.v3.imread. To keep the current behavior (and make this warning disappear) use `import imageio.v2 as imageio` or call `imageio.v2.imread` directly.\n",
            "  data[0] = imread('/content/boef.jpg')\n"
          ]
        }
      ]
    },
    {
      "cell_type": "code",
      "source": [
        "from keras.applications.mobilenet_v2 import preprocess_input\n",
        "\n",
        "data = preprocess_input(data)"
      ],
      "metadata": {
        "id": "_eO-GpF_k3aV"
      },
      "execution_count": 5,
      "outputs": []
    },
    {
      "cell_type": "code",
      "source": [
        "predictions = model.predict(data)\n",
        "print('Shape: {}'.format(predictions.shape))"
      ],
      "metadata": {
        "id": "OMeJ4dgak6u_",
        "outputId": "1167bfd7-98b0-4b40-8386-b6204055c66d",
        "colab": {
          "base_uri": "https://localhost:8080/"
        }
      },
      "execution_count": 6,
      "outputs": [
        {
          "output_type": "stream",
          "name": "stdout",
          "text": [
            "1/1 [==============================] - 3s 3s/step\n",
            "Shape: (1, 1000)\n"
          ]
        }
      ]
    },
    {
      "cell_type": "code",
      "source": [
        "output_neuron = np.argmax(predictions[0])\n",
        "print('Most active neuron: {} ({:.2f}%)'.format(\n",
        "    output_neuron,\n",
        "    100 * predictions[0][output_neuron]\n",
        "))"
      ],
      "metadata": {
        "id": "Dcg7GEpGlAVI",
        "outputId": "10cd6e7e-ca0c-4927-a04b-87f3857cacdf",
        "colab": {
          "base_uri": "https://localhost:8080/"
        }
      },
      "execution_count": 7,
      "outputs": [
        {
          "output_type": "stream",
          "name": "stdout",
          "text": [
            "Most active neuron: 155 (82.17%)\n"
          ]
        }
      ]
    },
    {
      "cell_type": "code",
      "source": [
        "from keras.applications.mobilenet_v2 import decode_predictions\n",
        "\n",
        "for name, desc, score in decode_predictions(predictions)[0]:\n",
        "    print('- {} ({:.2f}%%)'.format(desc, 100 * score))"
      ],
      "metadata": {
        "id": "0DpGe5zhlDAF",
        "outputId": "89df8600-73b6-412d-e57a-44a307938297",
        "colab": {
          "base_uri": "https://localhost:8080/"
        }
      },
      "execution_count": 8,
      "outputs": [
        {
          "output_type": "stream",
          "name": "stdout",
          "text": [
            "Downloading data from https://storage.googleapis.com/download.tensorflow.org/data/imagenet_class_index.json\n",
            "35363/35363 [==============================] - 0s 1us/step\n",
            "- Shih-Tzu (82.17%%)\n",
            "- Pekinese (8.71%%)\n",
            "- Lhasa (3.47%%)\n",
            "- Tibetan_terrier (0.77%%)\n",
            "- Old_English_sheepdog (0.28%%)\n"
          ]
        }
      ]
    }
  ]
}